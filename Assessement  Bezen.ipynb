{
 "cells": [
  {
   "cell_type": "code",
   "execution_count": 1,
   "id": "5d0396d7",
   "metadata": {},
   "outputs": [],
   "source": [
    "import pandas as pd\n",
    "import numpy as np\n",
    "import warnings \n",
    "warnings.filterwarnings('ignore')"
   ]
  },
  {
   "cell_type": "code",
   "execution_count": 2,
   "id": "a4973c26",
   "metadata": {},
   "outputs": [],
   "source": [
    "df=pd.read_csv(r'D:\\Data_Analysis\\Interview\\assessement\\csv.csv')"
   ]
  },
  {
   "cell_type": "code",
   "execution_count": 3,
   "id": "34285371",
   "metadata": {},
   "outputs": [
    {
     "data": {
      "text/plain": [
       "Index(['uuid', 'price_string', 'price_string_unf', 'product_type', 'level_1',\n",
       "       'category'],\n",
       "      dtype='object')"
      ]
     },
     "execution_count": 3,
     "metadata": {},
     "output_type": "execute_result"
    }
   ],
   "source": [
    "df.columns"
   ]
  },
  {
   "cell_type": "code",
   "execution_count": 4,
   "id": "6fdb1bba",
   "metadata": {},
   "outputs": [
    {
     "name": "stdout",
     "output_type": "stream",
     "text": [
      "8220000\n"
     ]
    }
   ],
   "source": [
    "print((df['price_string'].isnull().sum()))"
   ]
  },
  {
   "cell_type": "code",
   "execution_count": 5,
   "id": "f27d2fbe",
   "metadata": {},
   "outputs": [
    {
     "data": {
      "text/plain": [
       "(13730000, 6)"
      ]
     },
     "execution_count": 5,
     "metadata": {},
     "output_type": "execute_result"
    }
   ],
   "source": [
    "df.shape"
   ]
  },
  {
   "cell_type": "code",
   "execution_count": 6,
   "id": "b3be21a8",
   "metadata": {},
   "outputs": [
    {
     "name": "stdout",
     "output_type": "stream",
     "text": [
      "<class 'pandas.core.frame.DataFrame'>\n",
      "RangeIndex: 13730000 entries, 0 to 13729999\n",
      "Data columns (total 6 columns):\n",
      " #   Column            Dtype \n",
      "---  ------            ----- \n",
      " 0   uuid              object\n",
      " 1   price_string      object\n",
      " 2   price_string_unf  object\n",
      " 3   product_type      object\n",
      " 4   level_1           object\n",
      " 5   category          object\n",
      "dtypes: object(6)\n",
      "memory usage: 628.5+ MB\n"
     ]
    }
   ],
   "source": [
    "df.info()"
   ]
  },
  {
   "cell_type": "code",
   "execution_count": 7,
   "id": "84487c23",
   "metadata": {},
   "outputs": [],
   "source": [
    "##Products without prices"
   ]
  },
  {
   "cell_type": "code",
   "execution_count": 8,
   "id": "5e6ba690",
   "metadata": {},
   "outputs": [
    {
     "data": {
      "text/html": [
       "<div>\n",
       "<style scoped>\n",
       "    .dataframe tbody tr th:only-of-type {\n",
       "        vertical-align: middle;\n",
       "    }\n",
       "\n",
       "    .dataframe tbody tr th {\n",
       "        vertical-align: top;\n",
       "    }\n",
       "\n",
       "    .dataframe thead th {\n",
       "        text-align: right;\n",
       "    }\n",
       "</style>\n",
       "<table border=\"1\" class=\"dataframe\">\n",
       "  <thead>\n",
       "    <tr style=\"text-align: right;\">\n",
       "      <th></th>\n",
       "      <th>uuid</th>\n",
       "      <th>price_string</th>\n",
       "      <th>price_string_unf</th>\n",
       "      <th>product_type</th>\n",
       "      <th>level_1</th>\n",
       "      <th>category</th>\n",
       "    </tr>\n",
       "  </thead>\n",
       "  <tbody>\n",
       "    <tr>\n",
       "      <th>0</th>\n",
       "      <td>638744a4-b0ae-4166-8cb6-5c063c862036</td>\n",
       "      <td>NaN</td>\n",
       "      <td>NaN</td>\n",
       "      <td>TGFwdG9wIENvdmVycy9CYWdz</td>\n",
       "      <td>TGFwdG9wIENhc2U</td>\n",
       "      <td>RWxlY3Ryb25pY3M</td>\n",
       "    </tr>\n",
       "    <tr>\n",
       "      <th>1</th>\n",
       "      <td>ab313969-02cc-48b2-9daf-0054efb70b92</td>\n",
       "      <td>NaN</td>\n",
       "      <td>NaN</td>\n",
       "      <td>QmFraW5nIEN1cHMgYW5kIE1hdHM</td>\n",
       "      <td>QmFraW5nIE1hdHMgLyBCYWtpbmcgZGlzaA</td>\n",
       "      <td>a2l0Y2hpbmcgYW5kIGRpbmluZw</td>\n",
       "    </tr>\n",
       "    <tr>\n",
       "      <th>5</th>\n",
       "      <td>389d9f75-cc3f-4bd2-94f7-93e381a3bed5</td>\n",
       "      <td>NaN</td>\n",
       "      <td>NaN</td>\n",
       "      <td>TmF0dXJhbCBTd2VldGVuZXJzLyBTdWdhcg</td>\n",
       "      <td>TW9uayBGcnVpdA</td>\n",
       "      <td>Z3JvY2VyaWVz</td>\n",
       "    </tr>\n",
       "    <tr>\n",
       "      <th>13</th>\n",
       "      <td>1f2766ec-0a27-43f8-b28b-77a44492ead1</td>\n",
       "      <td>NaN</td>\n",
       "      <td>NaN</td>\n",
       "      <td>U2NydWJzIGFuZCBjbGVhbmluZyBjbG90aHM</td>\n",
       "      <td>U2NydWJz</td>\n",
       "      <td>SG91c2Vob2xkIGFuZCBDbGVhbmluZw</td>\n",
       "    </tr>\n",
       "    <tr>\n",
       "      <th>16</th>\n",
       "      <td>7bad39f5-74b9-4611-afb9-46fb135190cd</td>\n",
       "      <td>NaN</td>\n",
       "      <td>NaN</td>\n",
       "      <td>UGx1cyBzaXplIHdlYXIgZHJlc3M</td>\n",
       "      <td>RHJlc3M</td>\n",
       "      <td>Q2xvdGhpbmcgYW5kIEFjY2Vzc29yaWVz</td>\n",
       "    </tr>\n",
       "    <tr>\n",
       "      <th>...</th>\n",
       "      <td>...</td>\n",
       "      <td>...</td>\n",
       "      <td>...</td>\n",
       "      <td>...</td>\n",
       "      <td>...</td>\n",
       "      <td>...</td>\n",
       "    </tr>\n",
       "    <tr>\n",
       "      <th>13729992</th>\n",
       "      <td>8d763911-79b7-402d-8964-6bfe89692c66</td>\n",
       "      <td>NaN</td>\n",
       "      <td>NaN</td>\n",
       "      <td>TWVucyB3b3Jrd2Vhci8gb2ZmaWNlIHdlYXI</td>\n",
       "      <td>U2hpcnRz</td>\n",
       "      <td>Q2xvdGhpbmcgYW5kIEFjY2Vzc29yaWVz</td>\n",
       "    </tr>\n",
       "    <tr>\n",
       "      <th>13729993</th>\n",
       "      <td>2dc182aa-d591-49e4-85d1-5c4a60a09664</td>\n",
       "      <td>NaN</td>\n",
       "      <td>NaN</td>\n",
       "      <td>U3BpY2Vz</td>\n",
       "      <td>UGVwcGVy</td>\n",
       "      <td>Z3JvY2VyaWVz</td>\n",
       "    </tr>\n",
       "    <tr>\n",
       "      <th>13729995</th>\n",
       "      <td>2a13338e-9268-4f7b-9e7c-b8c41c72971b</td>\n",
       "      <td>NaN</td>\n",
       "      <td>NaN</td>\n",
       "      <td>RHJlc3Nlcw</td>\n",
       "      <td>TWF4aSBkcmVzcw</td>\n",
       "      <td>Q2xvdGhpbmcgYW5kIEFjY2Vzc29yaWVz</td>\n",
       "    </tr>\n",
       "    <tr>\n",
       "      <th>13729997</th>\n",
       "      <td>679f073a-862a-4e43-b5ce-41e45afd3bfa</td>\n",
       "      <td>NaN</td>\n",
       "      <td>NaN</td>\n",
       "      <td>UGV0IEZvb2Q</td>\n",
       "      <td>RHJ5IERvZyBGb29k</td>\n",
       "      <td>cGV0IHN1cHBsaWVz</td>\n",
       "    </tr>\n",
       "    <tr>\n",
       "      <th>13729998</th>\n",
       "      <td>25677eee-c26b-4abf-bd10-ca77a800ba26</td>\n",
       "      <td>NaN</td>\n",
       "      <td>NaN</td>\n",
       "      <td>U2F1Y2U</td>\n",
       "      <td>QkJRIFNhdWNl</td>\n",
       "      <td>Z3JvY2VyaWVz</td>\n",
       "    </tr>\n",
       "  </tbody>\n",
       "</table>\n",
       "<p>8220000 rows × 6 columns</p>\n",
       "</div>"
      ],
      "text/plain": [
       "                                          uuid price_string price_string_unf  \\\n",
       "0         638744a4-b0ae-4166-8cb6-5c063c862036          NaN              NaN   \n",
       "1         ab313969-02cc-48b2-9daf-0054efb70b92          NaN              NaN   \n",
       "5         389d9f75-cc3f-4bd2-94f7-93e381a3bed5          NaN              NaN   \n",
       "13        1f2766ec-0a27-43f8-b28b-77a44492ead1          NaN              NaN   \n",
       "16        7bad39f5-74b9-4611-afb9-46fb135190cd          NaN              NaN   \n",
       "...                                        ...          ...              ...   \n",
       "13729992  8d763911-79b7-402d-8964-6bfe89692c66          NaN              NaN   \n",
       "13729993  2dc182aa-d591-49e4-85d1-5c4a60a09664          NaN              NaN   \n",
       "13729995  2a13338e-9268-4f7b-9e7c-b8c41c72971b          NaN              NaN   \n",
       "13729997  679f073a-862a-4e43-b5ce-41e45afd3bfa          NaN              NaN   \n",
       "13729998  25677eee-c26b-4abf-bd10-ca77a800ba26          NaN              NaN   \n",
       "\n",
       "                                 product_type  \\\n",
       "0                    TGFwdG9wIENvdmVycy9CYWdz   \n",
       "1                 QmFraW5nIEN1cHMgYW5kIE1hdHM   \n",
       "5          TmF0dXJhbCBTd2VldGVuZXJzLyBTdWdhcg   \n",
       "13        U2NydWJzIGFuZCBjbGVhbmluZyBjbG90aHM   \n",
       "16                UGx1cyBzaXplIHdlYXIgZHJlc3M   \n",
       "...                                       ...   \n",
       "13729992  TWVucyB3b3Jrd2Vhci8gb2ZmaWNlIHdlYXI   \n",
       "13729993                             U3BpY2Vz   \n",
       "13729995                           RHJlc3Nlcw   \n",
       "13729997                          UGV0IEZvb2Q   \n",
       "13729998                              U2F1Y2U   \n",
       "\n",
       "                                     level_1                          category  \n",
       "0                            TGFwdG9wIENhc2U                   RWxlY3Ryb25pY3M  \n",
       "1         QmFraW5nIE1hdHMgLyBCYWtpbmcgZGlzaA        a2l0Y2hpbmcgYW5kIGRpbmluZw  \n",
       "5                             TW9uayBGcnVpdA                      Z3JvY2VyaWVz  \n",
       "13                                  U2NydWJz    SG91c2Vob2xkIGFuZCBDbGVhbmluZw  \n",
       "16                                   RHJlc3M  Q2xvdGhpbmcgYW5kIEFjY2Vzc29yaWVz  \n",
       "...                                      ...                               ...  \n",
       "13729992                            U2hpcnRz  Q2xvdGhpbmcgYW5kIEFjY2Vzc29yaWVz  \n",
       "13729993                            UGVwcGVy                      Z3JvY2VyaWVz  \n",
       "13729995                      TWF4aSBkcmVzcw  Q2xvdGhpbmcgYW5kIEFjY2Vzc29yaWVz  \n",
       "13729997                    RHJ5IERvZyBGb29k                  cGV0IHN1cHBsaWVz  \n",
       "13729998                        QkJRIFNhdWNl                      Z3JvY2VyaWVz  \n",
       "\n",
       "[8220000 rows x 6 columns]"
      ]
     },
     "execution_count": 8,
     "metadata": {},
     "output_type": "execute_result"
    }
   ],
   "source": [
    "df[df['price_string'].isnull()]"
   ]
  },
  {
   "cell_type": "code",
   "execution_count": 9,
   "id": "73cab953",
   "metadata": {},
   "outputs": [],
   "source": [
    "## Task 2 :- Total number of products without prices"
   ]
  },
  {
   "cell_type": "code",
   "execution_count": 10,
   "id": "726defa9",
   "metadata": {},
   "outputs": [
    {
     "data": {
      "text/plain": [
       "8220000"
      ]
     },
     "execution_count": 10,
     "metadata": {},
     "output_type": "execute_result"
    }
   ],
   "source": [
    "df['price_string'].isnull().sum()"
   ]
  },
  {
   "cell_type": "code",
   "execution_count": 11,
   "id": "87957b1f",
   "metadata": {},
   "outputs": [
    {
     "data": {
      "text/html": [
       "<div>\n",
       "<style scoped>\n",
       "    .dataframe tbody tr th:only-of-type {\n",
       "        vertical-align: middle;\n",
       "    }\n",
       "\n",
       "    .dataframe tbody tr th {\n",
       "        vertical-align: top;\n",
       "    }\n",
       "\n",
       "    .dataframe thead th {\n",
       "        text-align: right;\n",
       "    }\n",
       "</style>\n",
       "<table border=\"1\" class=\"dataframe\">\n",
       "  <thead>\n",
       "    <tr style=\"text-align: right;\">\n",
       "      <th></th>\n",
       "      <th>uuid</th>\n",
       "      <th>price_string</th>\n",
       "      <th>price_string_unf</th>\n",
       "      <th>product_type</th>\n",
       "      <th>level_1</th>\n",
       "      <th>category</th>\n",
       "    </tr>\n",
       "  </thead>\n",
       "  <tbody>\n",
       "    <tr>\n",
       "      <th>2</th>\n",
       "      <td>acbd66ff-79f8-467a-91f9-108a45af5626</td>\n",
       "      <td>$19.95</td>\n",
       "      <td>NaN</td>\n",
       "      <td>R3VtbWllcyB2aXRhbWlucyBhbmQgbWluZXJhbHMgZm9yIG...</td>\n",
       "      <td>SW1tdW5pdHkgZ3VtbWllcw</td>\n",
       "      <td>SGVhbHRo</td>\n",
       "    </tr>\n",
       "    <tr>\n",
       "      <th>3</th>\n",
       "      <td>963915d6-b2e3-4098-b242-9410593cf205</td>\n",
       "      <td>$92.00</td>\n",
       "      <td>NaN</td>\n",
       "      <td>U2VydW1z</td>\n",
       "      <td>RmFjZSBTZXJ1bQ</td>\n",
       "      <td>YmVhdXR5IGFuZCBwZXJzb25hbCBjYXJl</td>\n",
       "    </tr>\n",
       "    <tr>\n",
       "      <th>4</th>\n",
       "      <td>b5b68f3c-b1e0-40e5-8ee5-e2f7236c1daf</td>\n",
       "      <td>11.50</td>\n",
       "      <td>NaN</td>\n",
       "      <td>RWF0aW5nIFV0ZW5zaWxzL0N1dGxlcnk</td>\n",
       "      <td>Q2hvcHN0aWNrcw</td>\n",
       "      <td>a2l0Y2hpbmcgYW5kIGRpbmluZw</td>\n",
       "    </tr>\n",
       "    <tr>\n",
       "      <th>6</th>\n",
       "      <td>9599f1a9-d406-43eb-89f5-9b1c0af1ac9a</td>\n",
       "      <td>$24.99</td>\n",
       "      <td>NaN</td>\n",
       "      <td>TW9wcyBhbmQgYnJvb21z</td>\n",
       "      <td>TW9w</td>\n",
       "      <td>SG91c2Vob2xkIGFuZCBDbGVhbmluZw</td>\n",
       "    </tr>\n",
       "    <tr>\n",
       "      <th>7</th>\n",
       "      <td>35799087-f6f4-4ca2-abfe-cbb5c27d2f1a</td>\n",
       "      <td>$148.00</td>\n",
       "      <td>NaN</td>\n",
       "      <td>V29tZW5zIFBhbnRz</td>\n",
       "      <td>V29tZW5zIFJlZ3VsYXIvQ2FzdWFsIFBhbnRz</td>\n",
       "      <td>Q2xvdGhpbmcgYW5kIEFjY2Vzc29yaWVz</td>\n",
       "    </tr>\n",
       "    <tr>\n",
       "      <th>...</th>\n",
       "      <td>...</td>\n",
       "      <td>...</td>\n",
       "      <td>...</td>\n",
       "      <td>...</td>\n",
       "      <td>...</td>\n",
       "      <td>...</td>\n",
       "    </tr>\n",
       "    <tr>\n",
       "      <th>13729987</th>\n",
       "      <td>e12c3fe8-2987-4e95-93b2-14e173d8028a</td>\n",
       "      <td>$32.99</td>\n",
       "      <td>NaN</td>\n",
       "      <td>UGxhbnQgYmFzZWQgUHJvdGVpbiBTdXBwbGVtZW50cw</td>\n",
       "      <td>UGxhbnQgYmFzZWQgUHJvdGVpbiBTdXBwbGVtZW50cw</td>\n",
       "      <td>SGVhbHRo</td>\n",
       "    </tr>\n",
       "    <tr>\n",
       "      <th>13729989</th>\n",
       "      <td>544416c3-4845-4427-b27b-d3ca9beca970</td>\n",
       "      <td>$34.00</td>\n",
       "      <td>NaN</td>\n",
       "      <td>U3Vuc2NyZWVu</td>\n",
       "      <td>VmVnYW4gU3Vuc2NyZWVu</td>\n",
       "      <td>YmVhdXR5IGFuZCBwZXJzb25hbCBjYXJl</td>\n",
       "    </tr>\n",
       "    <tr>\n",
       "      <th>13729994</th>\n",
       "      <td>f0ec31d4-3283-4931-af8b-6fb9fdb8b1aa</td>\n",
       "      <td>$86.00</td>\n",
       "      <td>NaN</td>\n",
       "      <td>RmFjaWFsIENsZWFuc2Vycw</td>\n",
       "      <td>TWlsayBDbGVhbnNlcg</td>\n",
       "      <td>YmVhdXR5IGFuZCBwZXJzb25hbCBjYXJl</td>\n",
       "    </tr>\n",
       "    <tr>\n",
       "      <th>13729996</th>\n",
       "      <td>fcaedae7-dc20-4da1-b4ae-77368c973088</td>\n",
       "      <td>$69.99</td>\n",
       "      <td>NaN</td>\n",
       "      <td>Um9vbSBkZWNvcg</td>\n",
       "      <td>UGxhbnRlcnMvVmFzZXM</td>\n",
       "      <td>SG91c2Vob2xkIGFuZCBDbGVhbmluZw</td>\n",
       "    </tr>\n",
       "    <tr>\n",
       "      <th>13729999</th>\n",
       "      <td>0f4550de-1f33-48b5-a5ef-fc5e39df208e</td>\n",
       "      <td>$55.00</td>\n",
       "      <td>NaN</td>\n",
       "      <td>TG9hZmVycy8gT3hmb3Jkcw</td>\n",
       "      <td>d29tZW5zIE94Zm9yZHMgYW5kIExvYWZlcnM</td>\n",
       "      <td>Q2xvdGhpbmcgYW5kIEFjY2Vzc29yaWVz</td>\n",
       "    </tr>\n",
       "  </tbody>\n",
       "</table>\n",
       "<p>5510000 rows × 6 columns</p>\n",
       "</div>"
      ],
      "text/plain": [
       "                                          uuid price_string price_string_unf  \\\n",
       "2         acbd66ff-79f8-467a-91f9-108a45af5626       $19.95              NaN   \n",
       "3         963915d6-b2e3-4098-b242-9410593cf205       $92.00              NaN   \n",
       "4         b5b68f3c-b1e0-40e5-8ee5-e2f7236c1daf        11.50              NaN   \n",
       "6         9599f1a9-d406-43eb-89f5-9b1c0af1ac9a       $24.99              NaN   \n",
       "7         35799087-f6f4-4ca2-abfe-cbb5c27d2f1a      $148.00              NaN   \n",
       "...                                        ...          ...              ...   \n",
       "13729987  e12c3fe8-2987-4e95-93b2-14e173d8028a       $32.99              NaN   \n",
       "13729989  544416c3-4845-4427-b27b-d3ca9beca970       $34.00              NaN   \n",
       "13729994  f0ec31d4-3283-4931-af8b-6fb9fdb8b1aa       $86.00              NaN   \n",
       "13729996  fcaedae7-dc20-4da1-b4ae-77368c973088       $69.99              NaN   \n",
       "13729999  0f4550de-1f33-48b5-a5ef-fc5e39df208e       $55.00              NaN   \n",
       "\n",
       "                                               product_type  \\\n",
       "2         R3VtbWllcyB2aXRhbWlucyBhbmQgbWluZXJhbHMgZm9yIG...   \n",
       "3                                                  U2VydW1z   \n",
       "4                           RWF0aW5nIFV0ZW5zaWxzL0N1dGxlcnk   \n",
       "6                                      TW9wcyBhbmQgYnJvb21z   \n",
       "7                                          V29tZW5zIFBhbnRz   \n",
       "...                                                     ...   \n",
       "13729987         UGxhbnQgYmFzZWQgUHJvdGVpbiBTdXBwbGVtZW50cw   \n",
       "13729989                                       U3Vuc2NyZWVu   \n",
       "13729994                             RmFjaWFsIENsZWFuc2Vycw   \n",
       "13729996                                     Um9vbSBkZWNvcg   \n",
       "13729999                             TG9hZmVycy8gT3hmb3Jkcw   \n",
       "\n",
       "                                             level_1  \\\n",
       "2                             SW1tdW5pdHkgZ3VtbWllcw   \n",
       "3                                     RmFjZSBTZXJ1bQ   \n",
       "4                                     Q2hvcHN0aWNrcw   \n",
       "6                                               TW9w   \n",
       "7               V29tZW5zIFJlZ3VsYXIvQ2FzdWFsIFBhbnRz   \n",
       "...                                              ...   \n",
       "13729987  UGxhbnQgYmFzZWQgUHJvdGVpbiBTdXBwbGVtZW50cw   \n",
       "13729989                        VmVnYW4gU3Vuc2NyZWVu   \n",
       "13729994                          TWlsayBDbGVhbnNlcg   \n",
       "13729996                         UGxhbnRlcnMvVmFzZXM   \n",
       "13729999         d29tZW5zIE94Zm9yZHMgYW5kIExvYWZlcnM   \n",
       "\n",
       "                                  category  \n",
       "2                                 SGVhbHRo  \n",
       "3         YmVhdXR5IGFuZCBwZXJzb25hbCBjYXJl  \n",
       "4               a2l0Y2hpbmcgYW5kIGRpbmluZw  \n",
       "6           SG91c2Vob2xkIGFuZCBDbGVhbmluZw  \n",
       "7         Q2xvdGhpbmcgYW5kIEFjY2Vzc29yaWVz  \n",
       "...                                    ...  \n",
       "13729987                          SGVhbHRo  \n",
       "13729989  YmVhdXR5IGFuZCBwZXJzb25hbCBjYXJl  \n",
       "13729994  YmVhdXR5IGFuZCBwZXJzb25hbCBjYXJl  \n",
       "13729996    SG91c2Vob2xkIGFuZCBDbGVhbmluZw  \n",
       "13729999  Q2xvdGhpbmcgYW5kIEFjY2Vzc29yaWVz  \n",
       "\n",
       "[5510000 rows x 6 columns]"
      ]
     },
     "execution_count": 11,
     "metadata": {},
     "output_type": "execute_result"
    }
   ],
   "source": [
    "df[df['price_string'].notnull()]"
   ]
  },
  {
   "cell_type": "code",
   "execution_count": 12,
   "id": "1a46c983",
   "metadata": {},
   "outputs": [],
   "source": [
    "## Task 2 :- Total number of products with prices"
   ]
  },
  {
   "cell_type": "code",
   "execution_count": 13,
   "id": "8b335540",
   "metadata": {},
   "outputs": [
    {
     "data": {
      "text/plain": [
       "5510000"
      ]
     },
     "execution_count": 13,
     "metadata": {},
     "output_type": "execute_result"
    }
   ],
   "source": [
    "df['price_string'].notnull().sum()"
   ]
  },
  {
   "cell_type": "code",
   "execution_count": 14,
   "id": "084ed254",
   "metadata": {},
   "outputs": [
    {
     "data": {
      "text/plain": [
       "(13730000, 6)"
      ]
     },
     "execution_count": 14,
     "metadata": {},
     "output_type": "execute_result"
    }
   ],
   "source": [
    "df.shape"
   ]
  },
  {
   "cell_type": "code",
   "execution_count": 15,
   "id": "c7ef7598",
   "metadata": {},
   "outputs": [],
   "source": [
    "## Task 3 :-(i)Correct Product Prices in the correct format (eg: $56) wherever possible and\n",
    "##         (ii)separate them into currency and value columns."
   ]
  },
  {
   "cell_type": "code",
   "execution_count": 16,
   "id": "3c6baa4f",
   "metadata": {},
   "outputs": [],
   "source": [
    "## Task 3:- (i) Correct Product Prices in the correct format (eg: $56) wherever possible --\n",
    "##Approach:- Instead to find the not correct format and then convert it with correct format , we can remove \"$\" character\n",
    "##           from all the correct format and than insert the \"$\" in every not null value in the given column.        "
   ]
  },
  {
   "cell_type": "code",
   "execution_count": 17,
   "id": "78269019",
   "metadata": {},
   "outputs": [],
   "source": [
    "df['price_string']=df['price_string'].str.replace('$','')"
   ]
  },
  {
   "cell_type": "code",
   "execution_count": 18,
   "id": "8db375df",
   "metadata": {},
   "outputs": [],
   "source": [
    "df['price_string']=('$ '+df['price_string'])"
   ]
  },
  {
   "cell_type": "code",
   "execution_count": 19,
   "id": "c33d9ec7",
   "metadata": {},
   "outputs": [
    {
     "data": {
      "text/html": [
       "<div>\n",
       "<style scoped>\n",
       "    .dataframe tbody tr th:only-of-type {\n",
       "        vertical-align: middle;\n",
       "    }\n",
       "\n",
       "    .dataframe tbody tr th {\n",
       "        vertical-align: top;\n",
       "    }\n",
       "\n",
       "    .dataframe thead th {\n",
       "        text-align: right;\n",
       "    }\n",
       "</style>\n",
       "<table border=\"1\" class=\"dataframe\">\n",
       "  <thead>\n",
       "    <tr style=\"text-align: right;\">\n",
       "      <th></th>\n",
       "      <th>uuid</th>\n",
       "      <th>price_string</th>\n",
       "      <th>price_string_unf</th>\n",
       "      <th>product_type</th>\n",
       "      <th>level_1</th>\n",
       "      <th>category</th>\n",
       "    </tr>\n",
       "  </thead>\n",
       "  <tbody>\n",
       "    <tr>\n",
       "      <th>0</th>\n",
       "      <td>638744a4-b0ae-4166-8cb6-5c063c862036</td>\n",
       "      <td>NaN</td>\n",
       "      <td>NaN</td>\n",
       "      <td>TGFwdG9wIENvdmVycy9CYWdz</td>\n",
       "      <td>TGFwdG9wIENhc2U</td>\n",
       "      <td>RWxlY3Ryb25pY3M</td>\n",
       "    </tr>\n",
       "    <tr>\n",
       "      <th>1</th>\n",
       "      <td>ab313969-02cc-48b2-9daf-0054efb70b92</td>\n",
       "      <td>NaN</td>\n",
       "      <td>NaN</td>\n",
       "      <td>QmFraW5nIEN1cHMgYW5kIE1hdHM</td>\n",
       "      <td>QmFraW5nIE1hdHMgLyBCYWtpbmcgZGlzaA</td>\n",
       "      <td>a2l0Y2hpbmcgYW5kIGRpbmluZw</td>\n",
       "    </tr>\n",
       "    <tr>\n",
       "      <th>2</th>\n",
       "      <td>acbd66ff-79f8-467a-91f9-108a45af5626</td>\n",
       "      <td>$ 19.95</td>\n",
       "      <td>NaN</td>\n",
       "      <td>R3VtbWllcyB2aXRhbWlucyBhbmQgbWluZXJhbHMgZm9yIG...</td>\n",
       "      <td>SW1tdW5pdHkgZ3VtbWllcw</td>\n",
       "      <td>SGVhbHRo</td>\n",
       "    </tr>\n",
       "    <tr>\n",
       "      <th>3</th>\n",
       "      <td>963915d6-b2e3-4098-b242-9410593cf205</td>\n",
       "      <td>$ 92.00</td>\n",
       "      <td>NaN</td>\n",
       "      <td>U2VydW1z</td>\n",
       "      <td>RmFjZSBTZXJ1bQ</td>\n",
       "      <td>YmVhdXR5IGFuZCBwZXJzb25hbCBjYXJl</td>\n",
       "    </tr>\n",
       "    <tr>\n",
       "      <th>4</th>\n",
       "      <td>b5b68f3c-b1e0-40e5-8ee5-e2f7236c1daf</td>\n",
       "      <td>$ 11.50</td>\n",
       "      <td>NaN</td>\n",
       "      <td>RWF0aW5nIFV0ZW5zaWxzL0N1dGxlcnk</td>\n",
       "      <td>Q2hvcHN0aWNrcw</td>\n",
       "      <td>a2l0Y2hpbmcgYW5kIGRpbmluZw</td>\n",
       "    </tr>\n",
       "  </tbody>\n",
       "</table>\n",
       "</div>"
      ],
      "text/plain": [
       "                                   uuid price_string price_string_unf  \\\n",
       "0  638744a4-b0ae-4166-8cb6-5c063c862036          NaN              NaN   \n",
       "1  ab313969-02cc-48b2-9daf-0054efb70b92          NaN              NaN   \n",
       "2  acbd66ff-79f8-467a-91f9-108a45af5626      $ 19.95              NaN   \n",
       "3  963915d6-b2e3-4098-b242-9410593cf205      $ 92.00              NaN   \n",
       "4  b5b68f3c-b1e0-40e5-8ee5-e2f7236c1daf      $ 11.50              NaN   \n",
       "\n",
       "                                        product_type  \\\n",
       "0                           TGFwdG9wIENvdmVycy9CYWdz   \n",
       "1                        QmFraW5nIEN1cHMgYW5kIE1hdHM   \n",
       "2  R3VtbWllcyB2aXRhbWlucyBhbmQgbWluZXJhbHMgZm9yIG...   \n",
       "3                                           U2VydW1z   \n",
       "4                    RWF0aW5nIFV0ZW5zaWxzL0N1dGxlcnk   \n",
       "\n",
       "                              level_1                          category  \n",
       "0                     TGFwdG9wIENhc2U                   RWxlY3Ryb25pY3M  \n",
       "1  QmFraW5nIE1hdHMgLyBCYWtpbmcgZGlzaA        a2l0Y2hpbmcgYW5kIGRpbmluZw  \n",
       "2              SW1tdW5pdHkgZ3VtbWllcw                          SGVhbHRo  \n",
       "3                      RmFjZSBTZXJ1bQ  YmVhdXR5IGFuZCBwZXJzb25hbCBjYXJl  \n",
       "4                      Q2hvcHN0aWNrcw        a2l0Y2hpbmcgYW5kIGRpbmluZw  "
      ]
     },
     "execution_count": 19,
     "metadata": {},
     "output_type": "execute_result"
    }
   ],
   "source": [
    "df.head()"
   ]
  },
  {
   "cell_type": "code",
   "execution_count": 20,
   "id": "17837bed",
   "metadata": {},
   "outputs": [],
   "source": [
    "## Task 3:-(ii)separate them into currency and value columns.\n",
    "## Approach:- We split the data by using str.split() function"
   ]
  },
  {
   "cell_type": "code",
   "execution_count": 21,
   "id": "50ce80ff",
   "metadata": {},
   "outputs": [],
   "source": [
    "df[['Currency','Value']]=df['price_string'].str.split(\" \",1,expand=True)"
   ]
  },
  {
   "cell_type": "code",
   "execution_count": 22,
   "id": "db6e469f",
   "metadata": {},
   "outputs": [],
   "source": [
    "df.drop(columns=['price_string'],inplace=True)"
   ]
  },
  {
   "cell_type": "code",
   "execution_count": 23,
   "id": "ad4e89b3",
   "metadata": {},
   "outputs": [
    {
     "data": {
      "text/html": [
       "<div>\n",
       "<style scoped>\n",
       "    .dataframe tbody tr th:only-of-type {\n",
       "        vertical-align: middle;\n",
       "    }\n",
       "\n",
       "    .dataframe tbody tr th {\n",
       "        vertical-align: top;\n",
       "    }\n",
       "\n",
       "    .dataframe thead th {\n",
       "        text-align: right;\n",
       "    }\n",
       "</style>\n",
       "<table border=\"1\" class=\"dataframe\">\n",
       "  <thead>\n",
       "    <tr style=\"text-align: right;\">\n",
       "      <th></th>\n",
       "      <th>uuid</th>\n",
       "      <th>price_string_unf</th>\n",
       "      <th>product_type</th>\n",
       "      <th>level_1</th>\n",
       "      <th>category</th>\n",
       "      <th>Currency</th>\n",
       "      <th>Value</th>\n",
       "    </tr>\n",
       "  </thead>\n",
       "  <tbody>\n",
       "    <tr>\n",
       "      <th>0</th>\n",
       "      <td>638744a4-b0ae-4166-8cb6-5c063c862036</td>\n",
       "      <td>NaN</td>\n",
       "      <td>TGFwdG9wIENvdmVycy9CYWdz</td>\n",
       "      <td>TGFwdG9wIENhc2U</td>\n",
       "      <td>RWxlY3Ryb25pY3M</td>\n",
       "      <td>NaN</td>\n",
       "      <td>NaN</td>\n",
       "    </tr>\n",
       "    <tr>\n",
       "      <th>1</th>\n",
       "      <td>ab313969-02cc-48b2-9daf-0054efb70b92</td>\n",
       "      <td>NaN</td>\n",
       "      <td>QmFraW5nIEN1cHMgYW5kIE1hdHM</td>\n",
       "      <td>QmFraW5nIE1hdHMgLyBCYWtpbmcgZGlzaA</td>\n",
       "      <td>a2l0Y2hpbmcgYW5kIGRpbmluZw</td>\n",
       "      <td>NaN</td>\n",
       "      <td>NaN</td>\n",
       "    </tr>\n",
       "    <tr>\n",
       "      <th>2</th>\n",
       "      <td>acbd66ff-79f8-467a-91f9-108a45af5626</td>\n",
       "      <td>NaN</td>\n",
       "      <td>R3VtbWllcyB2aXRhbWlucyBhbmQgbWluZXJhbHMgZm9yIG...</td>\n",
       "      <td>SW1tdW5pdHkgZ3VtbWllcw</td>\n",
       "      <td>SGVhbHRo</td>\n",
       "      <td>$</td>\n",
       "      <td>19.95</td>\n",
       "    </tr>\n",
       "    <tr>\n",
       "      <th>3</th>\n",
       "      <td>963915d6-b2e3-4098-b242-9410593cf205</td>\n",
       "      <td>NaN</td>\n",
       "      <td>U2VydW1z</td>\n",
       "      <td>RmFjZSBTZXJ1bQ</td>\n",
       "      <td>YmVhdXR5IGFuZCBwZXJzb25hbCBjYXJl</td>\n",
       "      <td>$</td>\n",
       "      <td>92.00</td>\n",
       "    </tr>\n",
       "    <tr>\n",
       "      <th>4</th>\n",
       "      <td>b5b68f3c-b1e0-40e5-8ee5-e2f7236c1daf</td>\n",
       "      <td>NaN</td>\n",
       "      <td>RWF0aW5nIFV0ZW5zaWxzL0N1dGxlcnk</td>\n",
       "      <td>Q2hvcHN0aWNrcw</td>\n",
       "      <td>a2l0Y2hpbmcgYW5kIGRpbmluZw</td>\n",
       "      <td>$</td>\n",
       "      <td>11.50</td>\n",
       "    </tr>\n",
       "    <tr>\n",
       "      <th>...</th>\n",
       "      <td>...</td>\n",
       "      <td>...</td>\n",
       "      <td>...</td>\n",
       "      <td>...</td>\n",
       "      <td>...</td>\n",
       "      <td>...</td>\n",
       "      <td>...</td>\n",
       "    </tr>\n",
       "    <tr>\n",
       "      <th>13729995</th>\n",
       "      <td>2a13338e-9268-4f7b-9e7c-b8c41c72971b</td>\n",
       "      <td>NaN</td>\n",
       "      <td>RHJlc3Nlcw</td>\n",
       "      <td>TWF4aSBkcmVzcw</td>\n",
       "      <td>Q2xvdGhpbmcgYW5kIEFjY2Vzc29yaWVz</td>\n",
       "      <td>NaN</td>\n",
       "      <td>NaN</td>\n",
       "    </tr>\n",
       "    <tr>\n",
       "      <th>13729996</th>\n",
       "      <td>fcaedae7-dc20-4da1-b4ae-77368c973088</td>\n",
       "      <td>NaN</td>\n",
       "      <td>Um9vbSBkZWNvcg</td>\n",
       "      <td>UGxhbnRlcnMvVmFzZXM</td>\n",
       "      <td>SG91c2Vob2xkIGFuZCBDbGVhbmluZw</td>\n",
       "      <td>$</td>\n",
       "      <td>69.99</td>\n",
       "    </tr>\n",
       "    <tr>\n",
       "      <th>13729997</th>\n",
       "      <td>679f073a-862a-4e43-b5ce-41e45afd3bfa</td>\n",
       "      <td>NaN</td>\n",
       "      <td>UGV0IEZvb2Q</td>\n",
       "      <td>RHJ5IERvZyBGb29k</td>\n",
       "      <td>cGV0IHN1cHBsaWVz</td>\n",
       "      <td>NaN</td>\n",
       "      <td>NaN</td>\n",
       "    </tr>\n",
       "    <tr>\n",
       "      <th>13729998</th>\n",
       "      <td>25677eee-c26b-4abf-bd10-ca77a800ba26</td>\n",
       "      <td>NaN</td>\n",
       "      <td>U2F1Y2U</td>\n",
       "      <td>QkJRIFNhdWNl</td>\n",
       "      <td>Z3JvY2VyaWVz</td>\n",
       "      <td>NaN</td>\n",
       "      <td>NaN</td>\n",
       "    </tr>\n",
       "    <tr>\n",
       "      <th>13729999</th>\n",
       "      <td>0f4550de-1f33-48b5-a5ef-fc5e39df208e</td>\n",
       "      <td>NaN</td>\n",
       "      <td>TG9hZmVycy8gT3hmb3Jkcw</td>\n",
       "      <td>d29tZW5zIE94Zm9yZHMgYW5kIExvYWZlcnM</td>\n",
       "      <td>Q2xvdGhpbmcgYW5kIEFjY2Vzc29yaWVz</td>\n",
       "      <td>$</td>\n",
       "      <td>55.00</td>\n",
       "    </tr>\n",
       "  </tbody>\n",
       "</table>\n",
       "<p>13730000 rows × 7 columns</p>\n",
       "</div>"
      ],
      "text/plain": [
       "                                          uuid price_string_unf  \\\n",
       "0         638744a4-b0ae-4166-8cb6-5c063c862036              NaN   \n",
       "1         ab313969-02cc-48b2-9daf-0054efb70b92              NaN   \n",
       "2         acbd66ff-79f8-467a-91f9-108a45af5626              NaN   \n",
       "3         963915d6-b2e3-4098-b242-9410593cf205              NaN   \n",
       "4         b5b68f3c-b1e0-40e5-8ee5-e2f7236c1daf              NaN   \n",
       "...                                        ...              ...   \n",
       "13729995  2a13338e-9268-4f7b-9e7c-b8c41c72971b              NaN   \n",
       "13729996  fcaedae7-dc20-4da1-b4ae-77368c973088              NaN   \n",
       "13729997  679f073a-862a-4e43-b5ce-41e45afd3bfa              NaN   \n",
       "13729998  25677eee-c26b-4abf-bd10-ca77a800ba26              NaN   \n",
       "13729999  0f4550de-1f33-48b5-a5ef-fc5e39df208e              NaN   \n",
       "\n",
       "                                               product_type  \\\n",
       "0                                  TGFwdG9wIENvdmVycy9CYWdz   \n",
       "1                               QmFraW5nIEN1cHMgYW5kIE1hdHM   \n",
       "2         R3VtbWllcyB2aXRhbWlucyBhbmQgbWluZXJhbHMgZm9yIG...   \n",
       "3                                                  U2VydW1z   \n",
       "4                           RWF0aW5nIFV0ZW5zaWxzL0N1dGxlcnk   \n",
       "...                                                     ...   \n",
       "13729995                                         RHJlc3Nlcw   \n",
       "13729996                                     Um9vbSBkZWNvcg   \n",
       "13729997                                        UGV0IEZvb2Q   \n",
       "13729998                                            U2F1Y2U   \n",
       "13729999                             TG9hZmVycy8gT3hmb3Jkcw   \n",
       "\n",
       "                                      level_1  \\\n",
       "0                             TGFwdG9wIENhc2U   \n",
       "1          QmFraW5nIE1hdHMgLyBCYWtpbmcgZGlzaA   \n",
       "2                      SW1tdW5pdHkgZ3VtbWllcw   \n",
       "3                              RmFjZSBTZXJ1bQ   \n",
       "4                              Q2hvcHN0aWNrcw   \n",
       "...                                       ...   \n",
       "13729995                       TWF4aSBkcmVzcw   \n",
       "13729996                  UGxhbnRlcnMvVmFzZXM   \n",
       "13729997                     RHJ5IERvZyBGb29k   \n",
       "13729998                         QkJRIFNhdWNl   \n",
       "13729999  d29tZW5zIE94Zm9yZHMgYW5kIExvYWZlcnM   \n",
       "\n",
       "                                  category Currency  Value  \n",
       "0                          RWxlY3Ryb25pY3M      NaN    NaN  \n",
       "1               a2l0Y2hpbmcgYW5kIGRpbmluZw      NaN    NaN  \n",
       "2                                 SGVhbHRo        $  19.95  \n",
       "3         YmVhdXR5IGFuZCBwZXJzb25hbCBjYXJl        $  92.00  \n",
       "4               a2l0Y2hpbmcgYW5kIGRpbmluZw        $  11.50  \n",
       "...                                    ...      ...    ...  \n",
       "13729995  Q2xvdGhpbmcgYW5kIEFjY2Vzc29yaWVz      NaN    NaN  \n",
       "13729996    SG91c2Vob2xkIGFuZCBDbGVhbmluZw        $  69.99  \n",
       "13729997                  cGV0IHN1cHBsaWVz      NaN    NaN  \n",
       "13729998                      Z3JvY2VyaWVz      NaN    NaN  \n",
       "13729999  Q2xvdGhpbmcgYW5kIEFjY2Vzc29yaWVz        $  55.00  \n",
       "\n",
       "[13730000 rows x 7 columns]"
      ]
     },
     "execution_count": 23,
     "metadata": {},
     "output_type": "execute_result"
    }
   ],
   "source": [
    "df"
   ]
  },
  {
   "cell_type": "code",
   "execution_count": 24,
   "id": "522262fe",
   "metadata": {},
   "outputs": [],
   "source": [
    "## Task 4:-List out the categories with average price of product.\n",
    "## Before finding the average  we need to convert the object datatype of Value column into numeric datatype. "
   ]
  },
  {
   "cell_type": "code",
   "execution_count": 25,
   "id": "4109392f",
   "metadata": {},
   "outputs": [],
   "source": [
    "df['Value']=pd.to_numeric(df['Value'])"
   ]
  },
  {
   "cell_type": "code",
   "execution_count": 26,
   "id": "949b50f4",
   "metadata": {},
   "outputs": [
    {
     "name": "stdout",
     "output_type": "stream",
     "text": [
      "<class 'pandas.core.frame.DataFrame'>\n",
      "RangeIndex: 13730000 entries, 0 to 13729999\n",
      "Data columns (total 7 columns):\n",
      " #   Column            Dtype  \n",
      "---  ------            -----  \n",
      " 0   uuid              object \n",
      " 1   price_string_unf  object \n",
      " 2   product_type      object \n",
      " 3   level_1           object \n",
      " 4   category          object \n",
      " 5   Currency          object \n",
      " 6   Value             float64\n",
      "dtypes: float64(1), object(6)\n",
      "memory usage: 733.3+ MB\n"
     ]
    }
   ],
   "source": [
    "df.info()"
   ]
  },
  {
   "cell_type": "code",
   "execution_count": 27,
   "id": "d705e9d4",
   "metadata": {},
   "outputs": [],
   "source": [
    "## Now List out the categories with average price of product. "
   ]
  },
  {
   "cell_type": "code",
   "execution_count": 28,
   "id": "bbbf44ca",
   "metadata": {},
   "outputs": [
    {
     "data": {
      "text/html": [
       "<div>\n",
       "<style scoped>\n",
       "    .dataframe tbody tr th:only-of-type {\n",
       "        vertical-align: middle;\n",
       "    }\n",
       "\n",
       "    .dataframe tbody tr th {\n",
       "        vertical-align: top;\n",
       "    }\n",
       "\n",
       "    .dataframe thead th {\n",
       "        text-align: right;\n",
       "    }\n",
       "</style>\n",
       "<table border=\"1\" class=\"dataframe\">\n",
       "  <thead>\n",
       "    <tr style=\"text-align: right;\">\n",
       "      <th></th>\n",
       "      <th>Value</th>\n",
       "    </tr>\n",
       "    <tr>\n",
       "      <th>category</th>\n",
       "      <th></th>\n",
       "    </tr>\n",
       "  </thead>\n",
       "  <tbody>\n",
       "    <tr>\n",
       "      <th>Q2xvdGhpbmcgYW5kIEFjY2Vzc29yaWVz</th>\n",
       "      <td>125.413871</td>\n",
       "    </tr>\n",
       "    <tr>\n",
       "      <th>QXJ0IHN1cHBsaWVz</th>\n",
       "      <td>19.471053</td>\n",
       "    </tr>\n",
       "    <tr>\n",
       "      <th>QmFieWNhcmU</th>\n",
       "      <td>163.688889</td>\n",
       "    </tr>\n",
       "    <tr>\n",
       "      <th>RWxlY3Ryb25pY3M</th>\n",
       "      <td>60.258182</td>\n",
       "    </tr>\n",
       "    <tr>\n",
       "      <th>SG91c2Vob2xkIGFuZCBDbGVhbmluZw</th>\n",
       "      <td>76.199000</td>\n",
       "    </tr>\n",
       "    <tr>\n",
       "      <th>SGVhbHRo</th>\n",
       "      <td>32.557586</td>\n",
       "    </tr>\n",
       "    <tr>\n",
       "      <th>VG95cyBhbmQgR2FtZXM</th>\n",
       "      <td>32.448947</td>\n",
       "    </tr>\n",
       "    <tr>\n",
       "      <th>VG9vbHMgYW5kIGhvbWUgaW1wcm92ZW1lbnQ</th>\n",
       "      <td>82.223500</td>\n",
       "    </tr>\n",
       "    <tr>\n",
       "      <th>YmVhdXR5IGFuZCBwZXJzb25hbCBjYXJl</th>\n",
       "      <td>34.745067</td>\n",
       "    </tr>\n",
       "    <tr>\n",
       "      <th>Z3JvY2VyaWVz</th>\n",
       "      <td>10.541667</td>\n",
       "    </tr>\n",
       "    <tr>\n",
       "      <th>a2l0Y2hpbmcgYW5kIGRpbmluZw</th>\n",
       "      <td>16.703235</td>\n",
       "    </tr>\n",
       "    <tr>\n",
       "      <th>b2ZmaWNlIHByb2R1Y3Rz</th>\n",
       "      <td>20.480000</td>\n",
       "    </tr>\n",
       "    <tr>\n",
       "      <th>cGV0IHN1cHBsaWVz</th>\n",
       "      <td>14.181875</td>\n",
       "    </tr>\n",
       "  </tbody>\n",
       "</table>\n",
       "</div>"
      ],
      "text/plain": [
       "                                          Value\n",
       "category                                       \n",
       "Q2xvdGhpbmcgYW5kIEFjY2Vzc29yaWVz     125.413871\n",
       "QXJ0IHN1cHBsaWVz                      19.471053\n",
       "QmFieWNhcmU                          163.688889\n",
       "RWxlY3Ryb25pY3M                       60.258182\n",
       "SG91c2Vob2xkIGFuZCBDbGVhbmluZw        76.199000\n",
       "SGVhbHRo                              32.557586\n",
       "VG95cyBhbmQgR2FtZXM                   32.448947\n",
       "VG9vbHMgYW5kIGhvbWUgaW1wcm92ZW1lbnQ   82.223500\n",
       "YmVhdXR5IGFuZCBwZXJzb25hbCBjYXJl      34.745067\n",
       "Z3JvY2VyaWVz                          10.541667\n",
       "a2l0Y2hpbmcgYW5kIGRpbmluZw            16.703235\n",
       "b2ZmaWNlIHByb2R1Y3Rz                  20.480000\n",
       "cGV0IHN1cHBsaWVz                      14.181875"
      ]
     },
     "execution_count": 28,
     "metadata": {},
     "output_type": "execute_result"
    }
   ],
   "source": [
    "avg_cat= df.groupby('category')['Value'].mean()\n",
    "avg_cat=pd.DataFrame(avg_cat)\n",
    "avg_cat"
   ]
  },
  {
   "cell_type": "code",
   "execution_count": 29,
   "id": "021f3d38",
   "metadata": {},
   "outputs": [],
   "source": [
    "import matplotlib.pyplot as plt"
   ]
  },
  {
   "cell_type": "code",
   "execution_count": 30,
   "id": "3add7af6",
   "metadata": {},
   "outputs": [
    {
     "data": {
      "text/plain": [
       "Text(0, 0.5, 'Average Price of the Product')"
      ]
     },
     "execution_count": 30,
     "metadata": {},
     "output_type": "execute_result"
    },
    {
     "data": {
      "image/png": "[encoded data removed]",
      "text/plain": [
       "<Figure size 432x288 with 1 Axes>"
      ]
     },
     "metadata": {
      "needs_background": "light"
     },
     "output_type": "display_data"
    }
   ],
   "source": [
    "avg_cat.plot(kind='bar')\n",
    "plt.xlabel('Category')\n",
    "plt.ylabel('Average Price of the Product')"
   ]
  },
  {
   "cell_type": "code",
   "execution_count": null,
   "id": "10dd85c7",
   "metadata": {},
   "outputs": [],
   "source": []
  },
  {
   "cell_type": "code",
   "execution_count": null,
   "id": "31e9782b",
   "metadata": {},
   "outputs": [],
   "source": []
  }
 ],
 "metadata": {
  "kernelspec": {
   "display_name": "Python 3 (ipykernel)",
   "language": "python",
   "name": "python3"
  },
  "language_info": {
   "codemirror_mode": {
    "name": "ipython",
    "version": 3
   },
   "file_extension": ".py",
   "mimetype": "text/x-python",
   "name": "python",
   "nbconvert_exporter": "python",
   "pygments_lexer": "ipython3",
   "version": "3.9.7"
  }
 },
 "nbformat": 4,
 "nbformat_minor": 5
}
