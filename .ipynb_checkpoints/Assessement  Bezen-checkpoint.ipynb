{
 "cells": [
  {
   "cell_type": "code",
   "execution_count": null,
   "id": "079aab26",
   "metadata": {},
   "outputs": [],
   "source": []
  },
  {
   "cell_type": "code",
   "execution_count": null,
   "id": "546c0bef",
   "metadata": {},
   "outputs": [],
   "source": []
  },
  {
   "cell_type": "code",
   "execution_count": 1,
   "id": "5d0396d7",
   "metadata": {},
   "outputs": [
    {
     "ename": "SyntaxError",
     "evalue": "invalid syntax (Temp/ipykernel_21456/552989903.py, line 3)",
     "output_type": "error",
     "traceback": [
      "\u001b[1;36m  File \u001b[1;32m\"C:\\Users\\Maddy\\AppData\\Local\\Temp/ipykernel_21456/552989903.py\"\u001b[1;36m, line \u001b[1;32m3\u001b[0m\n\u001b[1;33m    import\u001b[0m\n\u001b[1;37m           ^\u001b[0m\n\u001b[1;31mSyntaxError\u001b[0m\u001b[1;31m:\u001b[0m invalid syntax\n"
     ]
    }
   ],
   "source": [
    "import pandas as pd\n",
    "import numpy as np\n",
    "import "
   ]
  },
  {
   "cell_type": "code",
   "execution_count": null,
   "id": "a4973c26",
   "metadata": {},
   "outputs": [],
   "source": [
    "df=pd.read_csv(r'D:\\Data_Analysis\\Interview\\assessement\\csv.csv')"
   ]
  },
  {
   "cell_type": "code",
   "execution_count": null,
   "id": "ea90a0c2",
   "metadata": {},
   "outputs": [],
   "source": [
    "df.head()"
   ]
  },
  {
   "cell_type": "code",
   "execution_count": null,
   "id": "6fdb1bba",
   "metadata": {},
   "outputs": [],
   "source": [
    "print((df['price_string'].isnull().sum()))"
   ]
  },
  {
   "cell_type": "code",
   "execution_count": null,
   "id": "f27d2fbe",
   "metadata": {},
   "outputs": [],
   "source": [
    "df.shape"
   ]
  },
  {
   "cell_type": "code",
   "execution_count": null,
   "id": "b3be21a8",
   "metadata": {},
   "outputs": [],
   "source": [
    "df.info()"
   ]
  },
  {
   "cell_type": "code",
   "execution_count": null,
   "id": "5e6ba690",
   "metadata": {},
   "outputs": [],
   "source": [
    "df[df['price_string'].isnull()]"
   ]
  },
  {
   "cell_type": "code",
   "execution_count": null,
   "id": "1007e578",
   "metadata": {},
   "outputs": [],
   "source": [
    "df[df['price_string'].isnull().sum()]"
   ]
  },
  {
   "cell_type": "code",
   "execution_count": null,
   "id": "8dda0eff",
   "metadata": {},
   "outputs": [],
   "source": [
    "df[df['price_string'].notnull()]"
   ]
  },
  {
   "cell_type": "code",
   "execution_count": null,
   "id": "adcad559",
   "metadata": {},
   "outputs": [],
   "source": [
    "df['price_string'].notnull().sum()"
   ]
  },
  {
   "cell_type": "code",
   "execution_count": null,
   "id": "084ed254",
   "metadata": {},
   "outputs": [],
   "source": [
    "df.shape"
   ]
  },
  {
   "cell_type": "code",
   "execution_count": null,
   "id": "78269019",
   "metadata": {},
   "outputs": [],
   "source": [
    "df['price_string']=df['price_string'].str.replace('$','')"
   ]
  },
  {
   "cell_type": "code",
   "execution_count": null,
   "id": "8db375df",
   "metadata": {},
   "outputs": [],
   "source": [
    "df['price_string']=('$ '+df['price_string'])"
   ]
  },
  {
   "cell_type": "code",
   "execution_count": null,
   "id": "c33d9ec7",
   "metadata": {},
   "outputs": [],
   "source": [
    "df.head()"
   ]
  },
  {
   "cell_type": "code",
   "execution_count": null,
   "id": "4574d49e",
   "metadata": {},
   "outputs": [],
   "source": []
  },
  {
   "cell_type": "code",
   "execution_count": null,
   "id": "d602add7",
   "metadata": {},
   "outputs": [],
   "source": [
    "df.info()"
   ]
  },
  {
   "cell_type": "code",
   "execution_count": null,
   "id": "bd9f7504",
   "metadata": {},
   "outputs": [],
   "source": [
    "print(df['price_string'].isnull().sum())"
   ]
  },
  {
   "cell_type": "code",
   "execution_count": null,
   "id": "b80e64d2",
   "metadata": {},
   "outputs": [],
   "source": []
  },
  {
   "cell_type": "code",
   "execution_count": null,
   "id": "50ce80ff",
   "metadata": {},
   "outputs": [],
   "source": [
    "df[['Currency','Value']]=df['price_string'].str.split(\" \",1,expand=True)"
   ]
  },
  {
   "cell_type": "code",
   "execution_count": null,
   "id": "db6e469f",
   "metadata": {},
   "outputs": [],
   "source": [
    "df.drop(columns=['price_string'],inplace=True)"
   ]
  },
  {
   "cell_type": "code",
   "execution_count": null,
   "id": "ad4e89b3",
   "metadata": {},
   "outputs": [],
   "source": [
    "df"
   ]
  },
  {
   "cell_type": "code",
   "execution_count": null,
   "id": "4109392f",
   "metadata": {},
   "outputs": [],
   "source": [
    "df['Value']=pd.to_numeric(df['Value'])"
   ]
  },
  {
   "cell_type": "code",
   "execution_count": null,
   "id": "949b50f4",
   "metadata": {},
   "outputs": [],
   "source": [
    "df.info()"
   ]
  },
  {
   "cell_type": "code",
   "execution_count": null,
   "id": "bbbf44ca",
   "metadata": {},
   "outputs": [],
   "source": [
    "avg_cat= df.groupby('category')['Value'].mean()\n",
    "avg_cat"
   ]
  },
  {
   "cell_type": "code",
   "execution_count": null,
   "id": "3add7af6",
   "metadata": {},
   "outputs": [],
   "source": [
    "avg_cat.plot(kind='bar')"
   ]
  },
  {
   "cell_type": "code",
   "execution_count": null,
   "id": "9604b7d7",
   "metadata": {},
   "outputs": [],
   "source": []
  },
  {
   "cell_type": "code",
   "execution_count": null,
   "id": "2f76e18f",
   "metadata": {},
   "outputs": [],
   "source": []
  },
  {
   "cell_type": "code",
   "execution_count": null,
   "id": "9539a7b8",
   "metadata": {},
   "outputs": [],
   "source": []
  },
  {
   "cell_type": "code",
   "execution_count": null,
   "id": "27312ebb",
   "metadata": {
    "scrolled": true
   },
   "outputs": [],
   "source": []
  },
  {
   "cell_type": "raw",
   "id": "925fb0cd",
   "metadata": {},
   "source": []
  },
  {
   "cell_type": "code",
   "execution_count": null,
   "id": "f2eef72d",
   "metadata": {},
   "outputs": [],
   "source": []
  }
 ],
 "metadata": {
  "kernelspec": {
   "display_name": "Python 3 (ipykernel)",
   "language": "python",
   "name": "python3"
  },
  "language_info": {
   "codemirror_mode": {
    "name": "ipython",
    "version": 3
   },
   "file_extension": ".py",
   "mimetype": "text/x-python",
   "name": "python",
   "nbconvert_exporter": "python",
   "pygments_lexer": "ipython3",
   "version": "3.9.7"
  }
 },
 "nbformat": 4,
 "nbformat_minor": 5
}
